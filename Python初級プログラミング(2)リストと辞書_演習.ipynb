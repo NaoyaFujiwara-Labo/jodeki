{
  "nbformat": 4,
  "nbformat_minor": 0,
  "metadata": {
    "colab": {
      "provenance": [],
      "include_colab_link": true
    },
    "kernelspec": {
      "name": "python3",
      "display_name": "Python 3"
    },
    "language_info": {
      "name": "python"
    }
  },
  "cells": [
    {
      "cell_type": "markdown",
      "metadata": {
        "id": "view-in-github",
        "colab_type": "text"
      },
      "source": [
        "<a href=\"https://colab.research.google.com/github/NaoyaFujiwara-Labo/jodeki/blob/main/20250424_Python%E5%88%9D%E7%B4%9A%E3%83%97%E3%83%AD%E3%82%B0%E3%83%A9%E3%83%9F%E3%83%B3%E3%82%B0(2)%E3%83%AA%E3%82%B9%E3%83%88%E3%81%A8%E8%BE%9E%E6%9B%B8.ipynb\" target=\"_parent\"><img src=\"https://colab.research.google.com/assets/colab-badge.svg\" alt=\"Open In Colab\"/></a>"
      ]
    },
    {
      "cell_type": "markdown",
      "source": [
        "# 演習問題１\n"
      ],
      "metadata": {
        "id": "AQxfHhw4FrJy"
      }
    },
    {
      "cell_type": "markdown",
      "source": [
        "\n",
        "下記のリスト\n",
        "```\n",
        "list_future = ['name', 'age','future']\n",
        "```\n",
        "を用いて、'future'年後の年齢を表示するプログラムを書きます。\n",
        "\n",
        "**Q1**: input()関数を用いてあなたの名前と年齢、そして何年後の年齢を表示したいかを入力して、それぞれlist_futureリストに保存してください。入力を求める画面の前に、\"Ener your name:\", \"Enter your age:\"\"Enter the year in which your age is shown:\"のような文言が表示されるようにしてみてください。最後に、list_futureを表示してください。 例えば、```['Fujiwara', 18, '5']```のようになるはずです。\n",
        "\n",
        "\n",
        "**Q2**: 'future'年後のあなたの年齢を表示できるようにしてください。先ほどの例だと、 ```Fujiwara will be 23 in 5 years.```と表示できるようにしてください。"
      ],
      "metadata": {
        "id": "ttPVhayy7X7h"
      }
    },
    {
      "cell_type": "code",
      "source": [
        "list_future = ['name', 'age','future']\n",
        "\n",
        "#回答を記入\n",
        "\n",
        "print(list_future)"
      ],
      "metadata": {
        "id": "7zodX-7mGB_R"
      },
      "execution_count": null,
      "outputs": []
    },
    {
      "cell_type": "code",
      "source": [
        "# \"fujiwara will be 23 in 5 years\"のような文章を表示させる"
      ],
      "metadata": {
        "id": "tJIA7pDb7dpY"
      },
      "execution_count": null,
      "outputs": []
    },
    {
      "cell_type": "code",
      "source": [
        "#演習2.4.5の解答\n",
        "#Q1\n",
        "\n",
        "# Given list\n",
        "\n",
        "list_future = ['name', 'age','future']\n",
        "\n",
        "print(\"Enter your name:\")\n",
        "list_future[0] = input()\n",
        "\n",
        "print(\"Enter your age:\")\n",
        "list_future[1] = input()\n",
        "\n",
        "print(\"Enter the year in which your age is shown:\")\n",
        "list_future[2] = input()\n",
        "\n",
        "#Q2\n",
        "\n",
        "print(list_future[0],\"will be\",int(list_future[1])+int(list_future[2]),\"in\", list_future[2],\"years\")"
      ],
      "metadata": {
        "id": "5wixIr2r83Ew"
      },
      "execution_count": null,
      "outputs": []
    },
    {
      "cell_type": "markdown",
      "metadata": {
        "id": "NCISdKbN3_3l"
      },
      "source": [
        "# 演習問題2"
      ]
    },
    {
      "cell_type": "markdown",
      "metadata": {
        "id": "wDmTmEaO2H9p"
      },
      "source": [
        "\n",
        "**ふたつのリスト（名前と年齢）からなるタプルを考えます。**\n",
        "\n",
        "\n",
        "```\n",
        "player_age = ([\"Ki kuou\", \"Kouraku\", \"Koyuza\", \"Enraku\", \"T\"], [84, 75, 75, 72, 57])\n",
        "```\n",
        "\n",
        "**以下を行ってください。**\n",
        "\n",
        "1. player_ageの中の名前のリストを、新たなリストnameに記録してください。\n",
        "\n",
        "2. name中の\"Ki kuou\"にあるスペースを削除して、名前を修正してください。\n",
        "\n",
        "zip()関数を用いて、名前と年齢の対応関係の辞書を作成できます。dict_playerage = dict(zip(name, player_age[1]))のように使います。\n",
        "\n",
        "3. このようにして作ったdict_playerageを使って\"T\"を\"Taihei\"に置き換えてください。\n",
        "\n",
        "4. 新たに名前\"Miyaji\"を追加してください。年齢は\"45\"歳として辞書に追加してください。\n",
        "\n",
        "**期待される出力**\n",
        "\n",
        "```\n",
        "{'Kikuou': 84,\n",
        " 'Kouraku': 75,\n",
        " 'Koyuza': 75,\n",
        " 'Enraku': 72,\n",
        " 'Taihei': 57,\n",
        " 'Miyaji': 45}\n",
        "```"
      ]
    },
    {
      "cell_type": "code",
      "execution_count": null,
      "metadata": {
        "id": "2ds9apKC2H9p"
      },
      "outputs": [],
      "source": [
        "player_age = ([\"Ki kuou\", \"Kouraku\", \"Koyuza\", \"Enraku\", \"T\"], [84, 75, 75, 72, 57])\n",
        "\n",
        "#1) player_ageの名前部分をリスト\"name\"にコピー\n",
        "\n",
        "\n",
        "#2) リストnameに名前リストを記録し、\"Ki kuou\"にあるスペースを削除する\n",
        "\n",
        "\n",
        "#3) 名前と年齢の対応関係の辞書を作成\n",
        "dict_playerage = dict(zip(name, player_age[1]))\n",
        "\n",
        "#4) \"T\"を\"Taihei\"に置き換える\n",
        "\n",
        "\n",
        "#5) \"Miyaji\" \"45歳\"を辞書に追加する\n",
        "\n"
      ]
    },
    {
      "cell_type": "code",
      "source": [
        "#演習2.6.5の解答\n",
        "\n",
        "#間違った記述のあるリスト．これを修正して正しいリストを作成する．\n",
        "player_age = ([\"Ki kuou\", \"Kouraku\", \"Koyuza\", \"Enraku\", \"T\"], [84, 75, 75, 72, 57])\n",
        "player_age\n",
        "\n",
        "# player_ageの名前部分をリスト\"name\"にコピー\n",
        "name = player_age[0]\n",
        "name\n",
        "\n",
        "#1) リストnameに名前リストを記録し、\"Ki kuou\"にあるスペースを削除する\n",
        "name[0] = name[0].replace(\" \", \"\")\n",
        "name\n",
        "\n",
        "#2) 名前と年齢の対応関係の辞書を作成\n",
        "dict_playerage = dict(zip(name, player_age[1]))\n",
        "dict_playerage\n",
        "\n",
        "#3) \"T\"を\"Taihei\"に置き換える\n",
        "dict_playerage[\"Taihei\"] = dict_playerage.pop('T')\n",
        "dict_playerage\n",
        "\n",
        "#4) \"Miyaji\" \"45歳\"を辞書に追加する\n",
        "dict_playerage[\"Miyaji\"] = 45\n",
        "dict_playerage\n"
      ],
      "metadata": {
        "id": "RpH8XTdI8547"
      },
      "execution_count": null,
      "outputs": []
    }
  ]
}