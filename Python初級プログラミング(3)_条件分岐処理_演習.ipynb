{
  "cells": [
    {
      "cell_type": "markdown",
      "metadata": {
        "colab_type": "text",
        "id": "view-in-github"
      },
      "source": [
        "<a href=\"https://colab.research.google.com/github/NaoyaFujiwara-Labo/jodeki/blob/main/20240517_Python%E5%88%9D%E7%B4%9A%E3%83%97%E3%83%AD%E3%82%B0%E3%83%A9%E3%83%9F%E3%83%B3%E3%82%B0(3)_%E6%9D%A1%E4%BB%B6%E5%88%86%E5%B2%90%E5%87%A6%E7%90%86.ipynb\" target=\"_parent\"><img src=\"https://colab.research.google.com/assets/colab-badge.svg\" alt=\"Open In Colab\"/></a>"
      ]
    },
    {
      "cell_type": "markdown",
      "metadata": {},
      "source": [
        "# 練習問題"
      ]
    },
    {
      "cell_type": "markdown",
      "metadata": {},
      "source": [
        "**練習問題 1**\n",
        "\n",
        "整数を一つ入力として受け取り、その整数が偶数であるか奇数であるかを判定して表示するプログラムを作成してください。"
      ]
    },
    {
      "cell_type": "code",
      "execution_count": null,
      "metadata": {},
      "outputs": [],
      "source": [
        "# 練習問題1の解答をここに記述してください\n",
        "num = int(input(\"整数を入力してください: \"))\n",
        "if ░░░ % ░░░ == ░░░:\n",
        "    print(f\"{num} は偶数です。\")\n",
        "else:\n",
        "    print(f\"{num} は奇数です。\")"
      ]
    },
    {
      "cell_type": "markdown",
      "metadata": {},
      "source": [
        "**練習問題 2**\n",
        "\n",
        "ユーザーに年齢を入力させ、その年齢に基づいて以下のメッセージを表示するプログラムを作成してください。\n",
        "- 18歳未満の場合: \"未成年です。\"\n",
        "- 18歳以上65歳未満の場合: \"成人です。\"\n",
        "- 65歳以上の場合: \"高齢者です。\""
      ]
    },
    {
      "cell_type": "code",
      "execution_count": null,
      "metadata": {},
      "outputs": [],
      "source": [
        "# 練習問題2の解答をここに記述してください\n",
        "age = int(input(\"年齢を入力してください: \"))\n",
        "if ░░░ < ░░░:\n",
        "    print(\"未成年です。\")\n",
        "elif ░░░ < ░░░:\n",
        "    print(\"成人です。\")\n",
        "else:\n",
        "    print(\"高齢者です。\")"
      ]
    },
    {
      "cell_type": "markdown",
      "metadata": {},
      "source": [
        "# 演習問題"
      ]
    },
    {
      "cell_type": "markdown",
      "metadata": {
        "id": "AQxfHhw4FrJy"
      },
      "source": [
        "## 演習問題１\n"
      ]
    },
    {
      "cell_type": "markdown",
      "metadata": {
        "id": "ttPVhayy7X7h"
      },
      "source": [
        "多岐分岐を利用した簡単な例を挙げておきましょう.\n",
        "2行目で入力された0点から100点までの成績 score に応じて表示するメッセージを多岐分岐 if 構文で分けてみましょう.\n",
        "成績が下記の範囲のとき，それぞれ以下のメッセージを出力してください．\n",
        "\n",
        "* 90点以上ならば \"Great!\"\n",
        "* 80点〜89点ならば \"Good!\"\n",
        "* 70点〜79点ならば \"Well.\"\n",
        "* 60点〜69点ならば \"Mmm...\"\n",
        "* 59点以下ならば \"Oops!\"\n"
      ]
    },
    {
      "cell_type": "code",
      "execution_count": null,
      "metadata": {
        "id": "7zodX-7mGB_R"
      },
      "outputs": [],
      "source": [
        "print(\"input score: \")\n",
        "score=int(input())\n",
        "\n",
        "#90点以上の場合に\"Great\"を出力\n",
        "\n",
        "#80-89点の場合に\"Good\"を出力\n",
        "\n",
        "#以下同様"
      ]
    },
    {
      "cell_type": "markdown",
      "metadata": {
        "id": "NCISdKbN3_3l"
      },
      "source": [
        "## 演習問題2"
      ]
    },
    {
      "cell_type": "markdown",
      "metadata": {
        "id": "wDmTmEaO2H9p"
      },
      "source": [
        "\n",
        "**Question 1.**\n",
        "キーボードから2つの数値 x, y を入力して, 数直線上におけるそれらの間の距離 |x-y| を出力するプログラムを記述せよ.絶対値 |x-y| は, x>=y であるときには x-y であり, そうでないときには y-x です. そこで, if構文で x と y の大小関係を判断して, x-y と y-x のどちらを出力すべきかを分けます."
      ]
    },
    {
      "cell_type": "code",
      "execution_count": null,
      "metadata": {
        "id": "2ds9apKC2H9p"
      },
      "outputs": [],
      "source": [
        "print(\"input x and y: \")\n",
        "x=float(input())\n",
        "y=float(input())\n",
        "\n",
        "# x>=yの場合\n",
        "\n",
        "# x<yの場合"
      ]
    },
    {
      "cell_type": "markdown",
      "metadata": {
        "id": "mKViLMgJHEYR"
      },
      "source": [
        "**Question 2.**  キーボードから4桁の整数 y を入力して, 西暦 y 年がうるう年（leap year）であるかどうかを判定して結果を表示するプログラムを作成せよ. ただし, 西暦 y 年がうるう年かどうかは, 次の規則で判定できる.\n",
        "\n",
        "\n",
        "*   y が 400 の倍数であるときには, うるう年.\n",
        "*   (y が 400 の倍数でないとき) y が100 の倍数であるときには, うるう年ではない.\n",
        "*   (y が 100 の倍数でないとき) y が 4 の倍数であるとき, かつそのときに限り, うるう年.\n",
        "\n",
        "\n",
        "\n",
        "\n",
        "\n"
      ]
    },
    {
      "cell_type": "code",
      "execution_count": null,
      "metadata": {
        "id": "P6YyE5qEHGkJ"
      },
      "outputs": [],
      "source": [
        "print(\"Input a year: \")\n",
        "year=int(input())"
      ]
    },
    {
      "cell_type": "markdown",
      "metadata": {},
      "source": [
        "# 練習問題の解答例"
      ]
    },
    {
      "cell_type": "markdown",
      "metadata": {},
      "source": [
        "**練習問題 1 の解答例**"
      ]
    },
    {
      "cell_type": "code",
      "execution_count": null,
      "metadata": {},
      "outputs": [],
      "source": [
        "# 練習問題1の解答例\n",
        "num = int(input(\"整数を入力してください: \"))\n",
        "if num % 2 == 0:\n",
        "    print(f\"{num} は偶数です。\")\n",
        "else:\n",
        "    print(f\"{num} は奇数です。\")"
      ]
    },
    {
      "cell_type": "markdown",
      "metadata": {},
      "source": [
        "**練習問題 2 の解答例**"
      ]
    },
    {
      "cell_type": "code",
      "execution_count": null,
      "metadata": {},
      "outputs": [],
      "source": [
        "# 練習問題2の解答例\n",
        "age = int(input(\"年齢を入力してください: \"))\n",
        "if age < 18:\n",
        "    print(\"未成年です。\")\n",
        "elif age < 65:\n",
        "    print(\"成人です。\")\n",
        "else:\n",
        "    print(\"高齢者です。\")"
      ]
    },
    {
      "cell_type": "markdown",
      "metadata": {},
      "source": [
        "# 演習問題の回答"
      ]
    },
    {
      "cell_type": "code",
      "execution_count": null,
      "metadata": {
        "id": "5wixIr2r83Ew"
      },
      "outputs": [],
      "source": [
        "#3.1.4の解答\n",
        "\n",
        "print(\"input score: \")\n",
        "score=int(input())\n",
        "\n",
        "if score>=90:\n",
        "  print(\"Great!\")\n",
        "elif score>=80:\n",
        "  print(\"Good!\")\n",
        "elif score>=70:\n",
        "  print(\"Well.\")\n",
        "elif score>=60:\n",
        "  print(\"Mmm...\")\n",
        "else:\n",
        "  print(\"Oops!\")"
      ]
    },
    {
      "cell_type": "code",
      "execution_count": null,
      "metadata": {
        "id": "RpH8XTdI8547"
      },
      "outputs": [],
      "source": [
        "#3.4 Question 1の解答\n",
        "\n",
        "print(\"input x and y: \")\n",
        "x=float(input())\n",
        "y=float(input())\n",
        "\n",
        "if x>=y:\n",
        "  print(\"distance =\",x-y)\n",
        "else:\n",
        "  print(\"distance =\",y-x)\n",
        "\n",
        "  # 3.4 Question 2の解答1\n",
        "\n",
        "print(\"Input a year: \")\n",
        "year=int(input())\n",
        "\n",
        "if year%400==0:\n",
        "  print(year,\"is a leap year.\")\n",
        "elif year%100==0:\n",
        "  print(year, \"is a common year.\")\n",
        "elif year%4==0:\n",
        "  print(year, \"is a leap lear.\")\n",
        "else:\n",
        "  print(year, \"is a common year.\")"
      ]
    },
    {
      "cell_type": "code",
      "execution_count": null,
      "metadata": {
        "id": "mCxrtKsRHUwb"
      },
      "outputs": [],
      "source": [
        "# 回答\n",
        "\n",
        "print(\"Input a year: \")\n",
        "year=int(input())\n",
        "\n",
        "if (year%400==0) or ((year%100!=0) and (year%4==0)):\n",
        "  print(year,\"is a leap year.\")\n",
        "else:\n",
        "  print(year,\"is a common year.\")"
      ]
    }
  ],
  "metadata": {
    "colab": {
      "include_colab_link": true,
      "provenance": []
    },
    "kernelspec": {
      "display_name": "Python 3",
      "name": "python3"
    },
    "language_info": {
      "name": "python"
    }
  },
  "nbformat": 4,
  "nbformat_minor": 0
}
