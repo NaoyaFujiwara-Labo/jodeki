{
  "nbformat": 4,
  "nbformat_minor": 0,
  "metadata": {
    "colab": {
      "provenance": [],
      "include_colab_link": true
    },
    "kernelspec": {
      "name": "python3",
      "display_name": "Python 3"
    },
    "language_info": {
      "name": "python"
    }
  },
  "cells": [
    {
      "cell_type": "markdown",
      "metadata": {
        "id": "view-in-github",
        "colab_type": "text"
      },
      "source": [
        "<a href=\"https://colab.research.google.com/github/NaoyaFujiwara-Labo/jodeki/blob/main/20250425_Python%E5%88%9D%E7%B4%9A%E3%83%97%E3%83%AD%E3%82%B0%E3%83%A9%E3%83%9F%E3%83%B3%E3%82%B0(1)_%E6%BC%94%E7%BF%92.ipynb\" target=\"_parent\"><img src=\"https://colab.research.google.com/assets/colab-badge.svg\" alt=\"Open In Colab\"/></a>"
      ]
    },
    {
      "cell_type": "markdown",
      "source": [
        "# 演習問題１\n",
        "\n",
        "\"Micheal\"を\"John\"に置き換える操作を、replaceを用いて書いて、printで表示してみてください。"
      ],
      "metadata": {
        "id": "AQxfHhw4FrJy"
      }
    },
    {
      "cell_type": "code",
      "source": [
        "word=\"This is Michael\"\n",
        "#以下に回答を記入\n",
        "word = word[:8] + \"John\"\n",
        "print(word)"
      ],
      "metadata": {
        "id": "7zodX-7mGB_R",
        "colab": {
          "base_uri": "https://localhost:8080/"
        },
        "outputId": "ed976f86-1912-4023-8c72-de0647156fec"
      },
      "execution_count": null,
      "outputs": [
        {
          "output_type": "stream",
          "name": "stdout",
          "text": [
            "This is John\n"
          ]
        }
      ]
    },
    {
      "cell_type": "markdown",
      "metadata": {
        "id": "NCISdKbN3_3l"
      },
      "source": [
        "# 演習問題2"
      ]
    },
    {
      "cell_type": "markdown",
      "metadata": {
        "id": "wDmTmEaO2H9p"
      },
      "source": [
        "ローマ字で名前を入力するとイニシャルを出力するプログラムを，上で習った関数を使って書いてみましょう．"
      ]
    },
    {
      "cell_type": "markdown",
      "metadata": {
        "id": "q4P3z3Rt2H9p"
      },
      "source": [
        "**例**\n",
        "\n",
        "Input: \"Isaac Newton\"\n",
        "\n",
        "Output: \"I.N.\""
      ]
    },
    {
      "cell_type": "markdown",
      "metadata": {
        "id": "OCmZKkCE2H9p"
      },
      "source": [
        "**ヒント:**\n",
        "\n",
        "・\"input\"関数でローマ字の名前を入力したものを，変数（\"Name\"としましょう）に格納します．\n",
        "\n",
        "・\"find\"関数を使用して，スペース (\" \") の位置を特定し，姓と名前に区切ります．\n",
        "\n",
        "・姓，名の最初の文字を抽出し，その後にドット (\".\") を追加します．"
      ]
    },
    {
      "cell_type": "code",
      "execution_count": null,
      "metadata": {
        "id": "2ds9apKC2H9p",
        "colab": {
          "base_uri": "https://localhost:8080/"
        },
        "outputId": "debe9b1f-0b8a-4a1e-972d-df385f7b6015"
      },
      "outputs": [
        {
          "output_type": "stream",
          "name": "stdout",
          "text": [
            "Hiro Yama\n",
            "H.Y\n"
          ]
        }
      ],
      "source": [
        "#以下に解答を記入する\n",
        "Name = str(input())\n",
        "pos = Name.find(\" \")\n",
        "print(Name[0] + \".\" + Name[pos+1])"
      ]
    }
  ]
}