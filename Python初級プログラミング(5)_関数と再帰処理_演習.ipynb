{
  "nbformat": 4,
  "nbformat_minor": 0,
  "metadata": {
    "colab": {
      "provenance": [],
      "toc_visible": true,
      "include_colab_link": true
    },
    "kernelspec": {
      "name": "python3",
      "display_name": "Python 3"
    }
  },
  "cells": [
    {
      "cell_type": "markdown",
      "metadata": {
        "id": "view-in-github",
        "colab_type": "text"
      },
      "source": [
        "<a href=\"https://colab.research.google.com/github/NaoyaFujiwara-Labo/jodeki/blob/main/Python%E5%88%9D%E7%B4%9A%E3%83%97%E3%83%AD%E3%82%B0%E3%83%A9%E3%83%9F%E3%83%B3%E3%82%B0(5)_%E9%96%A2%E6%95%B0%E3%81%A8%E5%86%8D%E5%B8%B0%E5%87%A6%E7%90%86_%E6%BC%94%E7%BF%92.ipynb\" target=\"_parent\"><img src=\"https://colab.research.google.com/assets/colab-badge.svg\" alt=\"Open In Colab\"/></a>"
      ]
    },
    {
      "cell_type": "markdown",
      "source": [
        "# 練習問題"
      ],
      "metadata": {
        "id": "3T_e8XwVzYNG"
      }
    },
    {
      "cell_type": "code",
      "execution_count": null,
      "metadata": {
        "id": "dM1nntDbT4MQ"
      },
      "outputs": [],
      "source": [
        "# 問題1: 二つの数字を受け取り、その和を返す関数を作成してください。\n",
        "def sum_two_numbers(a, b):\n",
        "    ans = ░░░ + ░░░░\n",
        "    return ans\n",
        "\n",
        "# テスト\n",
        "print(sum_two_numbers(3, 4))  # 出力: 7"
      ]
    },
    {
      "cell_type": "code",
      "source": [
        "# 問題2: 文字列を受け取り、その長さを返す関数を作成してください。\n",
        "def string_length(░░░):\n",
        "    ans = len(░░░)\n",
        "    return ans\n",
        "\n",
        "# テスト\n",
        "Hello = string_length(\"Fujiwaralab\")\n",
        "print(Hello)  # 出力: 11"
      ],
      "metadata": {
        "id": "m9CU7IqsUc6R"
      },
      "execution_count": null,
      "outputs": []
    },
    {
      "cell_type": "code",
      "source": [
        "# 問題3: リストの平均値を計算する関数を作成してください。\n",
        "def calculate_mean(░░░):\n",
        "    ans = sum(░░░) / len(░░░)\n",
        "    return ░░░\n",
        "\n",
        "# テスト\n",
        "mean = calculate_mean(1, 2, 3, 4, 5) # 出力: 3.0\n",
        "print(mean)\n"
      ],
      "metadata": {
        "id": "IxEqqOzzUuDw"
      },
      "execution_count": null,
      "outputs": []
    },
    {
      "cell_type": "code",
      "source": [
        "# 問題4: 文字列が回文であるかどうかを判定する関数を作成してください。\n",
        "def is_palindrome(string):\n",
        "    for i in range(len(string)//2):\n",
        "      if string[i] != string[-(1+i)]:\n",
        "        ░░░ ░░░\n",
        "    ░░░ ░░░\n",
        "\n",
        "\n",
        "# テスト\n",
        "print(is_palindrome(\"racecar\"))  # 出力: True\n",
        "print(is_palindrome(\"Fujiwaralab\"))  # 出力: False"
      ],
      "metadata": {
        "id": "y9pkTUbVV749"
      },
      "execution_count": null,
      "outputs": []
    },
    {
      "cell_type": "code",
      "source": [
        "# 問題5: 文字列のリストを受け取り、各文字列の長さが4以上の文字列のみを含む新しいリストを返す関数を作成してください。\n",
        "def filter_long_strings(lst):\n",
        "    ans_lst = []\n",
        "    for string in lst:\n",
        "      if ░░░ <= ░░░:\n",
        "        ans_lst.append(░░░)\n",
        "    return ░░░\n",
        "\n",
        "# テスト\n",
        "print(filter_long_strings([\"apple\", \"banana\", \"cat\", \"dog\"]))  # 出力: [\"apple\", \"banana\"]\n",
        "print(filter_long_strings([\"a\", \"ab\", \"abc\", \"abcd\"]))  # 出力: [\"abcd\"]\n",
        "print(filter_long_strings([]))  # 出力: []"
      ],
      "metadata": {
        "id": "2YFozciiXcIj"
      },
      "execution_count": null,
      "outputs": []
    },
    {
      "cell_type": "code",
      "source": [
        "# 問題6: 再帰を使って正の整数nの階乗を計算する関数を作成してください。\n",
        "def factorial(n):\n",
        "    if n == 0:\n",
        "        return 1\n",
        "    else:\n",
        "        return n * factorial(░░░)\n",
        "\n",
        "# テスト\n",
        "print(factorial(0))  # 出力: 1\n",
        "print(factorial(1))  # 出力: 1\n",
        "print(factorial(5))  # 出力: 120\n",
        "print(factorial(10))  # 出力: 3628800"
      ],
      "metadata": {
        "id": "mzuAsZj4ZvML"
      },
      "execution_count": null,
      "outputs": []
    },
    {
      "cell_type": "code",
      "source": [
        "# 問題7: 再帰を使ってフィボナッチ数列のn番目の数字を返す関数を作成してください。\n",
        "def Fib(n):\n",
        "    if n == ░░░:\n",
        "        return ░░░\n",
        "    elif n == ░░░:\n",
        "        return ░░░\n",
        "    else:\n",
        "        return ░░░ + ░░░\n",
        "\n",
        "# テスト\n",
        "print(Fib(1))  # 出力: 1\n",
        "print(Fib(7))  # 出力: 13"
      ],
      "metadata": {
        "colab": {
          "base_uri": "https://localhost:8080/"
        },
        "id": "o6hegfQeZFk9",
        "outputId": "22850dbd-3408-45f1-a674-1fbd7ab96ded"
      },
      "execution_count": null,
      "outputs": [
        {
          "output_type": "stream",
          "name": "stdout",
          "text": [
            "0\n",
            "8\n"
          ]
        }
      ]
    },
    {
      "cell_type": "markdown",
      "source": [
        "# 演習問題"
      ],
      "metadata": {
        "id": "nVEKNeRL2NHh"
      }
    },
    {
      "cell_type": "markdown",
      "source": [
        "**Question 1.**\n",
        "\n",
        "関数の積分の近似解を求めてみましょう．区間$[a,b]$で定義された連続関数$f(x)$を考えます．この区間を$a=x_0 < x_1 < \\cdots <x_n =b$により$n$個の区間に分割します．$\\xi_k \\in [x_{k},x_{k+1}]$として，リーマン和は$\\sum_{k=0}^{n-1} f(\\xi_k) (x_{k+1}-x_k)$と定義されます．ここで、$n$個の長さの等しい区間に分割し，つまり$x_k=a+\\frac{k}{n} (b-a) $とし，$\\xi_k=x_k$としたときのリーマン和$$S_n=\\frac{b-a}{n} \\sum_{k=0}^{n-1} f(x_k) $$を計算します．\n",
        "\n",
        "<p float=\"center\">\n",
        "<img src=\"http://drive.google.com/uc?export=view&id=13mzZGHW5Z1wpZ7nuzrP2XYkatWaw_E0S\" alt=\"drawing\" width=\"500\">\n",
        "</p>\n",
        "\n",
        "\n",
        "**(1)** 関数$f(x)=x^2$とします．$a,b,n$を指定するとリーマン和$S$を返す関数 Riemann を作成してください．Pythonでは、$x^2$はx**2と書きます。\n",
        "\n",
        "**(2)** Riemann を用いて，$a,b,n$を入力することでリーマン和を計算して表示するプログラムを書いてください．\n",
        "\n",
        "**(3)** $a=0,b=1$とします．$n$を変化させていくとRiemannの出力結果はどのように変化するでしょうか？($\\lim_{n\\rightarrow \\infty} S_n = \\int_0^1 x^2 dx = 1/3$と比較してみてください）\n"
      ],
      "metadata": {
        "id": "furYSZ_Io861"
      }
    },
    {
      "cell_type": "code",
      "source": [
        "#Question 1.\n",
        "def Riemann(a,b,n):\n",
        "\n",
        "  #ここにリーマン和を求める方法を記述。関数内はインデントすることに注意\n",
        "\n",
        "  return S\n",
        "\n",
        "###ここからメインプログラム\n",
        "print(\"Enter the lower bound of the integral a:\")\n",
        "#aを入力するコマンドをここに書く\n",
        "\n",
        "print(\"Enter the upper bound of the integral b:\")\n",
        "#bを入力するコマンドをここに書く\n",
        "\n",
        "print(\"Enter n:\")\n",
        "#nを入力するコマンドをここに書く\n",
        "\n",
        "print(Riemann(a,b,n))"
      ],
      "metadata": {
        "id": "XIHs-f9Rx3Uk"
      },
      "execution_count": null,
      "outputs": []
    },
    {
      "cell_type": "markdown",
      "source": [
        "**Memo1** 上記のようなリーマン和に基づく積分の数値計算は直観的ですが精度はあまりよくありません．ここでは詳細は触れませんが，より高精度な数値積分の手法が知られています．"
      ],
      "metadata": {
        "id": "yffZgiEF0I_P"
      }
    },
    {
      "cell_type": "markdown",
      "metadata": {
        "id": "RPRNkKeAsXIE"
      },
      "source": [
        "**Question 2.** Euclidの互除法のプログラムを，再帰的な関数を用いて以下のように書きたい．gcd関数の返す値をどのようにすればよいか考えよ．"
      ]
    },
    {
      "cell_type": "code",
      "metadata": {
        "id": "qOAx7Sngsda6"
      },
      "source": [
        "def gcd(a,b):\n",
        "  if b==0:\n",
        "    return a\n",
        "  return ###ここに記入するべき、返す値を考えてみてください###\n",
        "\n",
        "print(\"input two numbers: \")\n",
        "a=int(input())\n",
        "b=int(input())\n",
        "print(\"gcd(\",a,\",\",b,\") =\",gcd(a,b))"
      ],
      "execution_count": null,
      "outputs": []
    },
    {
      "cell_type": "markdown",
      "metadata": {
        "id": "ipzizoD8c5Nu"
      },
      "source": [
        "**Question 3.**  入力された自然数 n の2進数表現を返す関数 binary() を実装せよ. (ただし, Python で予め用意されている関数 bin などを使用してはいけない.)"
      ]
    },
    {
      "cell_type": "code",
      "metadata": {
        "id": "GINfj2eVv0yp"
      },
      "source": [
        "def binary(n):\n",
        "  #以下に解答を記入\n",
        "\n",
        "\n",
        "###メインプログラム\n",
        "print(\"input a number: \")\n",
        "n=int(input())\n",
        "print(\"Binary expression of\",n,\"=\",binary(n))"
      ],
      "execution_count": null,
      "outputs": []
    },
    {
      "cell_type": "markdown",
      "metadata": {
        "id": "gQDIUwVie7Nh"
      },
      "source": [
        "**Question 4.** 与えられた自然数 n の素因数分解を求める関数 factor() を実装せよ."
      ]
    },
    {
      "cell_type": "code",
      "source": [
        "#以下に解答を記入"
      ],
      "metadata": {
        "id": "OenmHA-z4TAw"
      },
      "execution_count": null,
      "outputs": []
    },
    {
      "cell_type": "markdown",
      "source": [
        "# 練習問題の解答"
      ],
      "metadata": {
        "id": "CHw2netN0u_W"
      }
    },
    {
      "cell_type": "code",
      "execution_count": null,
      "metadata": {
        "id": "C1NN6XVo0u_g"
      },
      "outputs": [],
      "source": [
        "# 問題1: 二つの数字を受け取り、その和を返す関数を作成してください。\n",
        "def sum_two_numbers(a, b):\n",
        "    ans = a + b\n",
        "    return ans\n",
        "\n",
        "# テスト\n",
        "print(sum_two_numbers(3, 4))  # 出力: 7"
      ]
    },
    {
      "cell_type": "code",
      "source": [
        "# 問題2: 文字列を受け取り、その長さを返す関数を作成してください。\n",
        "def string_length(Strings):\n",
        "    ans = len(Strings)\n",
        "    return ans\n",
        "\n",
        "# テスト\n",
        "Strings = string_length(\"Fujiwaralab\")\n",
        "print(Strings)  # 出力: 11"
      ],
      "metadata": {
        "id": "2DQD5scs0u_h"
      },
      "execution_count": null,
      "outputs": []
    },
    {
      "cell_type": "code",
      "source": [
        "# 問題3: リストの平均値を計算する関数を作成してください。\n",
        "def calculate_mean(lst):\n",
        "    ans = sum(lst) / len(lst)\n",
        "    return ans\n",
        "\n",
        "# テスト\n",
        "mean = calculate_mean(1, 2, 3, 4, 5) # 出力: 3.0\n",
        "print(mean)\n"
      ],
      "metadata": {
        "id": "IetSQ_Jc0u_h"
      },
      "execution_count": null,
      "outputs": []
    },
    {
      "cell_type": "code",
      "source": [
        "# 問題4: 文字列が回文であるかどうかを判定する関数を作成してください。\n",
        "def is_palindrome(string):\n",
        "    for i in range(len(string)//2):\n",
        "      if string[i] != string[-(1+i)]:\n",
        "        return False\n",
        "    return True\n",
        "\n",
        "\n",
        "# テスト\n",
        "print(is_palindrome(\"racecar\"))  # 出力: True\n",
        "print(is_palindrome(\"Fujiwaralab\"))  # 出力: False"
      ],
      "metadata": {
        "id": "pGP_aRdb0u_h"
      },
      "execution_count": null,
      "outputs": []
    },
    {
      "cell_type": "code",
      "source": [
        "# 問題5: 文字列のリストを受け取り、各文字列の長さが4以上の文字列のみを含む新しいリストを返す関数を作成してください。\n",
        "def filter_long_strings(lst):\n",
        "    ans_lst = []\n",
        "    for string in lst:\n",
        "      if 4 <= len(string):\n",
        "        ans_lst.append(string)\n",
        "    return ans_lst\n",
        "\n",
        "# テスト\n",
        "print(filter_long_strings([\"apple\", \"banana\", \"cat\", \"dog\"]))  # 出力: [\"apple\", \"banana\"]\n",
        "print(filter_long_strings([\"a\", \"ab\", \"abc\", \"abcd\"]))  # 出力: [\"abcd\"]\n",
        "print(filter_long_strings([]))  # 出力: []"
      ],
      "metadata": {
        "id": "XbQNZO7O0u_h"
      },
      "execution_count": null,
      "outputs": []
    },
    {
      "cell_type": "code",
      "source": [
        "# 問題6: 再帰を使って正の整数nの階乗を計算する関数を作成してください。\n",
        "def factorial(n):\n",
        "    if n == 0:\n",
        "        return 1\n",
        "    else:\n",
        "        return n * factorial(n-1)\n",
        "\n",
        "# テスト\n",
        "print(factorial(0))  # 出力: 1\n",
        "print(factorial(1))  # 出力: 1\n",
        "print(factorial(5))  # 出力: 120\n",
        "print(factorial(10))  # 出力: 3628800"
      ],
      "metadata": {
        "id": "Rk6dazpV0u_h"
      },
      "execution_count": null,
      "outputs": []
    },
    {
      "cell_type": "code",
      "source": [
        "# 問題7: 再帰を使ってフィボナッチ数列のn番目の数字を返す関数を作成してください。\n",
        "def Fib(n):\n",
        "    if n == 1:\n",
        "        return 1\n",
        "    elif n == 2:\n",
        "        return 1\n",
        "    else:\n",
        "        return Fib(n-1) + Fib(n-2)\n",
        "\n",
        "# テスト\n",
        "print(Fib(1))  # 出力: 1\n",
        "print(Fib(7))  # 出力: 13"
      ],
      "metadata": {
        "colab": {
          "base_uri": "https://localhost:8080/"
        },
        "outputId": "bfad4d4e-eff4-47b0-d39c-bc6dd7d06bc9",
        "id": "3VfbvPZ50u_h"
      },
      "execution_count": null,
      "outputs": [
        {
          "output_type": "stream",
          "name": "stdout",
          "text": [
            "1\n",
            "13\n"
          ]
        }
      ]
    },
    {
      "cell_type": "markdown",
      "source": [
        "# 演習問題の解答例"
      ],
      "metadata": {
        "id": "rd6B9usv4lpA"
      }
    },
    {
      "cell_type": "markdown",
      "source": [
        "**Question 1.の解答例**"
      ],
      "metadata": {
        "id": "eUIgYx7JOe7W"
      }
    },
    {
      "cell_type": "code",
      "source": [
        "#Question 1.の解答例\n",
        "def Riemann(a,b,n):\n",
        "  S = 0\n",
        "  for k in range(n):\n",
        "    S = S + ((a + k*(b-a)/n)**2)*((b-a)/n)\n",
        "\n",
        "  return S\n",
        "\n",
        "###ここからメインプログラム\n",
        "print(\"Enter the lower bound of the integral a:\")\n",
        "a = float(input())\n",
        "print(\"Enter the upper bound of the integral b:\")\n",
        "b = float(input())\n",
        "print(\"Enter the number of intervals n:\")\n",
        "n = int(input())\n",
        "\n",
        "print(Riemann(a,b,n))"
      ],
      "metadata": {
        "id": "vsPwKbziwtx-"
      },
      "execution_count": null,
      "outputs": []
    },
    {
      "cell_type": "markdown",
      "source": [
        "\n",
        "**Question 2.の解答例**"
      ],
      "metadata": {
        "id": "bdY11zZePcbM"
      }
    },
    {
      "cell_type": "code",
      "metadata": {
        "id": "UjfYKyDogZ6D"
      },
      "source": [
        "def gcd(a,b):\n",
        "  if b==0:\n",
        "    return a\n",
        "  return gcd(b,a%b)\n",
        "\n",
        "print(\"input two numbers: \")\n",
        "a=int(input())\n",
        "b=int(input())\n",
        "print(\"gcd(\",a,\",\",b,\") =\",gcd(a,b))"
      ],
      "execution_count": null,
      "outputs": []
    },
    {
      "cell_type": "markdown",
      "metadata": {
        "id": "cbLwunQts6Ba"
      },
      "source": [
        "**Memo.** このプログラムでは, a と b の最大公約数 gcd(a,b) を求めるために, 次の原理を利用しています.\n",
        "(a mod b は a を b で割ったときの余りです.)\n",
        "\n",
        "$$ \\gcd(a,0)=a $$\n",
        "$$ \\gcd(a,b)=\\gcd(b,a\\ mod\\ b) \\quad (b\\ne 0)$$\n",
        "\n",
        "この原理にしたがって最大公約数 gcd(a, b) を求める手法は**Euclidの互除法**と呼ばれ, 効率的な計算手法として広く用いられています.\n",
        "\n",
        "2つ目の式は gcd を計算するために gcd 自身を利用するという再帰的な構造になっていますが, 右辺の第2項目の値は「a を b で割った余り」であり, b よりも真に小さい値となるので, 再帰を繰り返せばいずれは第2項目の値は 0 になります. この時点で1つ目の式が適用され, 再帰の連鎖が止まります.\n",
        "\n",
        "関数 gcd の記述は上記の2つの式が意味するところを忠実にPythonの文法に従って翻訳しただけです."
      ]
    },
    {
      "cell_type": "markdown",
      "source": [
        "**Question 3.の解答例**"
      ],
      "metadata": {
        "id": "2FSisaKxgh9Y"
      }
    },
    {
      "cell_type": "code",
      "metadata": {
        "id": "nk-uHXWkPXYR"
      },
      "source": [
        "#Question 3.の解答例\n",
        "def binary(n):\n",
        "  if n<=1:\n",
        "    return str(n)\n",
        "  r=n%2\n",
        "  m=int((n-r)/2)\n",
        "  return binary(m)+str(r)\n",
        "\n",
        "print(\"input a number: \")\n",
        "n=int(input())\n",
        "print(\"Binary expression of\",n,\"=\",binary(n))"
      ],
      "execution_count": null,
      "outputs": []
    },
    {
      "cell_type": "markdown",
      "metadata": {
        "id": "xAJRBVKGdlrE"
      },
      "source": [
        "**Memo.** このプログラム例では, 関数 binary は入力された自然数 n の2進数表現を与える文字列を返す関数として作成されています.\n",
        "関数 binary では次のような再帰構造が利用されています.\n",
        "\n",
        "* **Step 1:** n が 0 または 1 ならば, n 自身が n の2進数表現になっているので, そのまま n 自身を返答します. (2行目〜3行目. なお, str() は入力を文字列化する関数です.)\n",
        "* **Step 2:** (n が 2 以上のとき) 2進数表現の定義から, n が偶数のときには, n/2 の2進数表現の末尾に 0 を付ければ n の2進数表現になりますし, n が奇数のときには, (n-1)/2 の2進数表現の末尾に 1 を付ければ n の2進数表現になります.\n",
        "これを記述しているのが, 4行目〜6行目です.\n",
        "6行目の return の中にある \"+\" は文字列の連接です."
      ]
    },
    {
      "cell_type": "markdown",
      "source": [
        "**Question 4.の解答例**"
      ],
      "metadata": {
        "id": "wh83xWw54a0I"
      }
    },
    {
      "cell_type": "code",
      "metadata": {
        "id": "aAOHXljDfEt7"
      },
      "source": [
        "def min_prime(n):\n",
        "  if n<=1:\n",
        "    return n\n",
        "  d=2\n",
        "  while n%d!=0:\n",
        "    d=d+1\n",
        "  return d\n",
        "\n",
        "def factor(n):\n",
        "  if n<=1:\n",
        "    return []\n",
        "  d=min_prime(n)\n",
        "  fac=factor(int(n/d))\n",
        "  if fac==[]:\n",
        "    return [[n,1]]\n",
        "  if fac[0][0]==d:\n",
        "    fac[0][1]=fac[0][1]+1\n",
        "    return fac\n",
        "  return [[d,1]]+fac\n",
        "\n",
        "# main part\n",
        "\n",
        "print(\"input a number n: \")\n",
        "n=int(input())\n",
        "print(n,\"=\",factor(n))"
      ],
      "execution_count": null,
      "outputs": []
    },
    {
      "cell_type": "markdown",
      "metadata": {
        "id": "j5TNblEhgKPw"
      },
      "source": [
        "**Memo 1.** このプログラムでは, 関数 factor は入力された自然数 n の素因数分解をリスト形式で出力する関数として実装されています. 例えば, factor(720) は\n",
        "\n",
        "> factor(720) = [[2,4],[3,2],[5,1]]\n",
        "\n",
        "となりますが, これは 720=2^4×3^2×5 という分解を表しています. (2^4 は 2 の 4 乗を表しています. 3^2 についても同様です.)\n",
        "この例のように, 小さい素因数ほど前側に来るように意図されています.\n",
        "\n",
        "この関数 factor を作成するために, 関数 min_prime を利用しています. これは入力された自然数 n に対してその最小の素因数を返す関数です. (ただし, n=1 に対しては 1 を返答します.)\n"
      ]
    },
    {
      "cell_type": "markdown",
      "metadata": {
        "id": "1rJC5OgLmoh5"
      },
      "source": [
        "関数 factor では, 次のような再帰的なアルゴリズムを利用しています.\n",
        "\n",
        "* **Step 1:** n が 1 以下であれば, n の素因数分解として空っぽのリスト [] を返します. これが再帰の連鎖を止めるプロセスです. (10行目〜11行目)\n",
        "* **Step 2:** (n が 2 以上のとき) min_prime を利用して, n の最小の素因数 d を求め, さらに再帰的に n/d の素因数分解を表すリスト fac を取得します. (12行目〜13行目)\n",
        "* **Step 3:**  Step 2で取得したリスト fac が空っぽであるときには, n 自身が素数であることを意味します. その場合には, 組 [n,1] のみから成るリスト [[n,1]] を返答します(14行目〜15行目). リスト [n,1] を返答するのではないことに注意してください. (**[n,1] と [[n,1]] の違いに注意!**)\n",
        "* **Step 4:** facが空っぽでないときには, facの先頭成分 fac[0] を見ます. それを仮に [p,k] としておきましょう. ここに現れる素因数 p がStep 2で見つけた d であるかどうかで処理が分かれます. (この p は n/d の最小の素因数です.)\n",
        "まず p=d である場合には, fac[0]=[p,k] を fac[0]=[p,k+1] に更新して, 更新後の fac を返答します(16行目〜18行目). p=d でない場合には, fac の先頭に [d,1] を追加したリストを返答します(19行目).\n",
        "\n",
        "例えば, n=720 が入力された場合は, 次のように動作します.\n",
        "\n",
        "1. 12行目で d=2 を取得し, 13行目で fac=factor(360) を取得します. (再帰プロセスの詳細は省きますが, factor(360) はリスト [[2,3],[3,2],[5,1]] として返答されてくるはずです. これは分解 360=2^3×3^2×5 を表しています.)\n",
        "2. fac は空っぽではないので, 14行目〜15行目はスキップします.\n",
        "3. fac[0] はリスト fac の先頭要素 [2,3] を表しています. そして, fac[0][0] は [2,3] の最初の成分である 2 を指しています. これはつまり, 360 の最小の素因数です.\n",
        "4. 今は d=2, fac[0][0]=2 となっていて, 両者が一致します. したがって, 17行目〜18行目が実行されます.\n",
        "17行目で fac[0][1] の値が 1 つ増えて 3 から 4 に変化します. これによって, fac[0] は [2,3] から [2,4] に変わります.\n",
        "そして, 18行目で更新後の fac をそのまま返答しますので, factor(40) に対する答えは [[2,4],[3,2],[5,1]] となります.\n",
        "\n"
      ]
    },
    {
      "cell_type": "markdown",
      "metadata": {
        "id": "jGXXDamsqaF-"
      },
      "source": [
        "**Memo 2.** ここで使用した再帰アルゴリズムは, 与えられた自然数 n を小さな素因数で順番に割っていくことで素因数分解を求めるという単純なアルゴリズムです. この方法では, 入力値 n がそれなりに小さい値である間はうまく機能しますが, n がある程度大きな値になると, 計算量が爆発的に増えて実際には使い物にならなくなります. **掛算は簡単なのに, その逆操作に当たる分解は計算量的に見て難しい操作です**. しかし, このアンバランスさが現代の暗号技術に役立っているという一面もあります."
      ]
    }
  ]
}