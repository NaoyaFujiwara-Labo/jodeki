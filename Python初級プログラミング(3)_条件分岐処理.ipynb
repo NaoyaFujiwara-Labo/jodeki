{
  "cells": [
    {
      "cell_type": "markdown",
      "metadata": {
        "colab_type": "text",
        "id": "view-in-github"
      },
      "source": [
        "<a href=\"https://colab.research.google.com/github/NaoyaFujiwara-Labo/jodeki/blob/main/20240517_Python%E5%88%9D%E7%B4%9A%E3%83%97%E3%83%AD%E3%82%B0%E3%83%A9%E3%83%9F%E3%83%B3%E3%82%B0(3)_%E6%9D%A1%E4%BB%B6%E5%88%86%E5%B2%90%E5%87%A6%E7%90%86.ipynb\" target=\"_parent\"><img src=\"https://colab.research.google.com/assets/colab-badge.svg\" alt=\"Open In Colab\"/></a>"
      ]
    },
    {
      "cell_type": "markdown",
      "metadata": {
        "id": "AQxfHhw4FrJy"
      },
      "source": [
        "# 演習問題１\n"
      ]
    },
    {
      "cell_type": "markdown",
      "metadata": {
        "id": "ttPVhayy7X7h"
      },
      "source": [
        "多岐分岐を利用した簡単な例を挙げておきましょう.\n",
        "2行目で入力された0点から100点までの成績 score に応じて表示するメッセージを多岐分岐 if 構文で分けてみましょう.\n",
        "成績が下記の範囲のとき，それぞれ以下のメッセージを出力してください．\n",
        "\n",
        "* 90点以上ならば \"Great!\"\n",
        "* 80点〜89点ならば \"Good!\"\n",
        "* 70点〜79点ならば \"Well.\"\n",
        "* 60点〜69点ならば \"Mmm...\"\n",
        "* 59点以下ならば \"Oops!\"\n"
      ]
    },
    {
      "cell_type": "code",
      "execution_count": null,
      "metadata": {
        "id": "7zodX-7mGB_R"
      },
      "outputs": [],
      "source": [
        "print(\"input score: \")\n",
        "score=int(input())\n",
        "\n",
        "#90点以上の場合に\"Great\"を出力\n",
        "\n",
        "#80-89点の場合に\"Good\"を出力\n",
        "\n",
        "#以下同様"
      ]
    },
    {
      "cell_type": "code",
      "execution_count": null,
      "metadata": {
        "id": "5wixIr2r83Ew"
      },
      "outputs": [],
      "source": [
        "#3.1.4の解答\n",
        "\n",
        "print(\"input score: \")\n",
        "score=int(input())\n",
        "\n",
        "if score>=90:\n",
        "  print(\"Great!\")\n",
        "elif score>=80:\n",
        "  print(\"Good!\")\n",
        "elif score>=70:\n",
        "  print(\"Well.\")\n",
        "elif score>=60:\n",
        "  print(\"Mmm...\")\n",
        "else:\n",
        "  print(\"Oops!\")"
      ]
    },
    {
      "cell_type": "markdown",
      "metadata": {
        "id": "NCISdKbN3_3l"
      },
      "source": [
        "# 演習問題2"
      ]
    },
    {
      "cell_type": "markdown",
      "metadata": {
        "id": "wDmTmEaO2H9p"
      },
      "source": [
        "\n",
        "**Question 1.**\n",
        "キーボードから2つの数値 x, y を入力して, 数直線上におけるそれらの間の距離 |x-y| を出力するプログラムを記述せよ.絶対値 |x-y| は, x>=y であるときには x-y であり, そうでないときには y-x です. そこで, if構文で x と y の大小関係を判断して, x-y と y-x のどちらを出力すべきかを分けます."
      ]
    },
    {
      "cell_type": "code",
      "execution_count": null,
      "metadata": {
        "id": "2ds9apKC2H9p"
      },
      "outputs": [],
      "source": [
        "print(\"input x and y: \")\n",
        "x=float(input())\n",
        "y=float(input())\n",
        "\n",
        "# x>=yの場合\n",
        "\n",
        "# x<yの場合"
      ]
    },
    {
      "cell_type": "markdown",
      "metadata": {
        "id": "mKViLMgJHEYR"
      },
      "source": [
        "**Question 2.**  キーボードから4桁の整数 y を入力して, 西暦 y 年がうるう年（leap year）であるかどうかを判定して結果を表示するプログラムを作成せよ. ただし, 西暦 y 年がうるう年かどうかは, 次の規則で判定できる.\n",
        "\n",
        "\n",
        "*   y が 400 の倍数であるときには, うるう年.\n",
        "*   (y が 400 の倍数でないとき) y が100 の倍数であるときには, うるう年ではない.\n",
        "*   (y が 100 の倍数でないとき) y が 4 の倍数であるとき, かつそのときに限り, うるう年.\n",
        "\n",
        "\n",
        "\n",
        "\n",
        "\n"
      ]
    },
    {
      "cell_type": "code",
      "execution_count": null,
      "metadata": {
        "id": "P6YyE5qEHGkJ"
      },
      "outputs": [],
      "source": [
        "print(\"Input a year: \")\n",
        "year=int(input())"
      ]
    },
    {
      "cell_type": "code",
      "execution_count": null,
      "metadata": {
        "id": "RpH8XTdI8547"
      },
      "outputs": [],
      "source": [
        "#3.4 Question 1の解答\n",
        "\n",
        "print(\"input x and y: \")\n",
        "x=float(input())\n",
        "y=float(input())\n",
        "\n",
        "if x>=y:\n",
        "  print(\"distance =\",x-y)\n",
        "else:\n",
        "  print(\"distance =\",y-x)\n",
        "\n",
        "  # 3.4 Question 2の解答1\n",
        "\n",
        "print(\"Input a year: \")\n",
        "year=int(input())\n",
        "\n",
        "if year%400==0:\n",
        "  print(year,\"is a leap year.\")\n",
        "elif year%100==0:\n",
        "  print(year, \"is a common year.\")\n",
        "elif year%4==0:\n",
        "  print(year, \"is a leap lear.\")\n",
        "else:\n",
        "  print(year, \"is a common year.\")"
      ]
    },
    {
      "cell_type": "markdown",
      "metadata": {
        "id": "U_pViGMWHSHK"
      },
      "source": [
        "Memo 1. leap year は「うるう年」, common year は「平年 (うるう年ではない年)」を意味します. if構文の先頭から順番に, 問題文で説明された条件を判断しています.\n",
        "\n",
        "year%400 は「year を400で割った余り」であり, year%400==0 はそれが 0 に等しいという条件を意味します. つまり, それは「year が400の倍数である」という条件です. それが True であるときには, そのすぐ下の print 文を実行して「leap year」と表示して if 構文の処理を終わります.\n",
        "\n",
        "そうでなかった場合には, 次の elif において year が 100 の倍数かどうかが判断されます. year が 100 の倍数であれば, そのすぐ下の print 文が実行されて「common year」と表示され, if 構文の処理が終わります.\n",
        "\n",
        "そうでなかった場合は, 次の elif に移行して, year が 4 の倍数かどうかが判断されます. もしそうであれば, すぐ下の print 文で「leap year」と表示して, if 構文の処理を終わります. そうでなかった場合は, 最後の else 以下が実行されて,「common year」と表示して終了します."
      ]
    },
    {
      "cell_type": "code",
      "execution_count": null,
      "metadata": {
        "id": "mCxrtKsRHUwb"
      },
      "outputs": [],
      "source": [
        "# 3.4 Question 2の解答2\n",
        "\n",
        "print(\"Input a year: \")\n",
        "year=int(input())\n",
        "\n",
        "if (year%400==0) or ((year%100!=0) and (year%4==0)):\n",
        "  print(year,\"is a leap year.\")\n",
        "else:\n",
        "  print(year,\"is a common year.\")"
      ]
    },
    {
      "cell_type": "markdown",
      "metadata": {
        "id": "5-6c_AQ0HXZ4"
      },
      "source": [
        "この書き方では, 4行目の if で year がうるう年であるための条件を一気に判断して, それが成立する場合には5行目の print で「leap year」と表示して終わり, 不成立の場合には7行目の print で「common year」と表示しています.\n",
        "\n",
        "問題文に与えられた条件から, year がうるう年であるためには, (i) year が 400 の倍数であるか, または (ii) year が 100 の倍数ではない4の倍数である, ということが必要十分であることに注意しましょう. この条件をPython流に記述したものが, 4行目の if の中にある条件式です."
      ]
    }
  ],
  "metadata": {
    "colab": {
      "include_colab_link": true,
      "provenance": []
    },
    "kernelspec": {
      "display_name": "Python 3",
      "name": "python3"
    },
    "language_info": {
      "name": "python"
    }
  },
  "nbformat": 4,
  "nbformat_minor": 0
}
